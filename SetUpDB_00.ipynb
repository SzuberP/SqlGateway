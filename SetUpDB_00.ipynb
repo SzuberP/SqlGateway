{
    "metadata": {
        "kernelspec": {
            "name": "SQL",
            "display_name": "SQL",
            "language": "sql"
        },
        "language_info": {
            "name": "sql",
            "version": ""
        }
    },
    "nbformat_minor": 2,
    "nbformat": 4,
    "cells": [
        {
            "cell_type": "markdown",
            "source": [
                "InductionCompleted table store information about users who have completed all compulsory trainings. \n",
                "\n",
                "It is updated by triger inductionCompleted\\_00, on CompletedTrainings Tab\n",
                "\n",
                "<span style=\"color: var(--vscode-foreground);\">Up to the project requirements Table has to be updated with name, email, project name<br></span>"
            ],
            "metadata": {
                "azdata_cell_guid": "db3baebb-0022-4594-bffa-3a900d650bbc"
            },
            "attachments": {}
        },
        {
            "cell_type": "code",
            "source": [
                "ALTER TABLE InductionCompleted\r\n",
                "ADD Title NVARCHAR(100),\r\n",
                "    Email NVARCHAR(100), \r\n",
                "    ProjectName NVARCHAR(100);"
            ],
            "metadata": {
                "azdata_cell_guid": "22ea1c0d-80a3-496b-9106-d20d2db9aa8c",
                "language": "sql"
            },
            "outputs": [
                {
                    "output_type": "error",
                    "ename": "",
                    "evalue": "Msg 2705, Level 16, State 4, Line 1\r\nColumn names in each table must be unique. Column name 'Title' in table 'InductionCompleted' is specified more than once.",
                    "traceback": []
                },
                {
                    "output_type": "display_data",
                    "data": {
                        "text/html": "Total execution time: 00:00:00.045"
                    },
                    "metadata": {}
                }
            ],
            "execution_count": 3
        },
        {
            "cell_type": "code",
            "source": [
                "ALTER TRIGGER inductionCompleted_00\r\n",
                "ON CompletedTrainings\r\n",
                "FOR INSERT AS\r\n",
                "BEGIN \r\n",
                "\t\r\n",
                "\tDECLARE @PersonProjectID int\r\n",
                "\tDECLARE @ProjectID int\r\n",
                "    DECLARE @PersonID int\r\n",
                "\tDECLARE @NumCompletedTrainings int\r\n",
                "\tDECLARE @NumTrainingsProject int\r\n",
                "    DECLARE @Title nvarchar(100)\r\n",
                "    DECLARE @Email nvarchar(100) \r\n",
                "    DECLARE @ProjectName nvarchar(100)\r\n",
                "\r\n",
                "\tSET @PersonProjectID = (SELECT PersonProjectID FROM inserted)\r\n",
                "\r\n",
                "\tSET @ProjectID = (SELECT ProjectID FROM PersonProject WHERE PersonProjectID = @PersonProjectID)\r\n",
                "    SET @PersonID = (SELECT PersonID FROM PersonProject WHERE PersonProjectID = @PersonProjectID)\r\n",
                "\r\n",
                "\tSET @Title = (SELECT Title FROM People_Details WHERE PersonDetailsID = @PersonID)\r\n",
                "    SET @Email = (SELECT Email FROM People_Details WHERE PersonDetailsID = @PersonID) \r\n",
                "    SET @ProjectName = (SELECT ProjectName FROM Projects WHERE ProjectID = @ProjectID)     \r\n",
                "\r\n",
                "\tSET @NumTrainingsProject = (SELECT COUNT(*) FROM Trainings WHERE ProjectID = @ProjectID AND Mandatory = 1)\r\n",
                "\tSET @NumCompletedTrainings = (SELECT COUNT(*) FROM CompletedTrainings ct JOIN Trainings t ON ct.TrainingID = t.TrainingID WHERE t.Mandatory = 1 AND ct.PersonProjectID = @PersonProjectID)\r\n",
                "\r\n",
                "\tIF @NumCompletedTrainings >= @NumTrainingsProject\r\n",
                "\t\tBEGIN\r\n",
                "\r\n",
                "\t\tINSERT INTO InductionCompleted (PersonProjectId, CompletedDate, Title, Email, ProjectName)\r\n",
                "\t\tVALUES (@PersonProjectID, CAST(GETDATE() AS DATE), @Title, @Email, @ProjectName)\r\n",
                "\r\n",
                "\t\tEND\r\n",
                "\r\n",
                "END\r\n",
                "GO"
            ],
            "metadata": {
                "language": "sql",
                "azdata_cell_guid": "c6ed266b-3a38-46c7-8842-ed8b6aa86d4e"
            },
            "outputs": [
                {
                    "output_type": "display_data",
                    "data": {
                        "text/html": "Commands completed successfully."
                    },
                    "metadata": {}
                },
                {
                    "output_type": "display_data",
                    "data": {
                        "text/html": "Total execution time: 00:00:00.048"
                    },
                    "metadata": {}
                }
            ],
            "execution_count": 19
        },
        {
            "cell_type": "markdown",
            "source": [
                "<span style=\"color: rgb(0, 128, 0);\">defining groups with people details view for flow</span>"
            ],
            "metadata": {
                "language": "sql",
                "azdata_cell_guid": "9e7c2cf8-e9bc-4507-b3cf-9127ad60e898"
            },
            "attachments": {}
        },
        {
            "cell_type": "code",
            "source": [
                "ALTER VIEW PeopleInGroups\r\n",
                "AS      \r\n",
                "    SELECT pd.Title, pp.PersonProjectID, pp.PersonID, pd.Email, p_g.GroupUrl, p_g.PortalGroupName, p.ProjectName, pg.GroupID\r\n",
                "    FROM PersonGroup pg\r\n",
                "    JOIN Portal_Groups p_g\r\n",
                "    ON pg.GroupID = p_g.PortalGroupID\r\n",
                "    JOIN PersonProject pp\r\n",
                "    ON pg.PersonProjectID = pp.PersonProjectID\r\n",
                "    JOIN People_Details pd \r\n",
                "    ON pp.PersonID = pd.PersonDetailsID\r\n",
                "    JOIN Projects p \r\n",
                "    ON pp.ProjectID = p.ProjectID"
            ],
            "metadata": {
                "language": "sql",
                "azdata_cell_guid": "3e6b5417-e6cf-4939-b8b0-5b75346bfac8"
            },
            "outputs": [
                {
                    "output_type": "display_data",
                    "data": {
                        "text/html": "Commands completed successfully."
                    },
                    "metadata": {}
                },
                {
                    "output_type": "display_data",
                    "data": {
                        "text/html": "Total execution time: 00:00:00.078"
                    },
                    "metadata": {}
                }
            ],
            "execution_count": 5
        },
        {
            "cell_type": "code",
            "source": [
                "ALTER TABLE PersonProject\r\n",
                "ADD ProjectRole NVARCHAR(50),\r\n",
                "    ProjectWiseLevel NVARCHAR(50)"
            ],
            "metadata": {
                "azdata_cell_guid": "e0db1e87-7607-4592-8c01-9f70ff81750d",
                "language": "sql"
            },
            "outputs": [
                {
                    "output_type": "display_data",
                    "data": {
                        "text/html": "Commands completed successfully."
                    },
                    "metadata": {}
                },
                {
                    "output_type": "display_data",
                    "data": {
                        "text/html": "Total execution time: 00:00:00.089"
                    },
                    "metadata": {}
                }
            ],
            "execution_count": 2
        },
        {
            "cell_type": "markdown",
            "source": [
                "Ater Approval Status view"
            ],
            "metadata": {
                "azdata_cell_guid": "23a695b1-34ea-4f0a-a496-cd71030e9180"
            },
            "attachments": {}
        },
        {
            "cell_type": "code",
            "source": [
                "SET ANSI_NULLS ON\r\n",
                "GO\r\n",
                "SET QUOTED_IDENTIFIER ON\r\n",
                "GO\r\n",
                "ALTER View [dbo].[ApprovalStatus] As\r\n",
                "SELECT Pd.PersonDetailsID, pp.PersonProjectID, p.ProjectName as Project, Pd.Email, Pd.Title, Ho.HomeOrganisationName, Iu.Added, Iu.AddedData, Iu.AddedBy\r\n",
                "FROM People_Details Pd\r\n",
                "FULL OUTER JOIN Home_Organisations Ho\r\n",
                "ON Pd.HomeOrganisation = Ho.HomeOrgID\r\n",
                "FULL OUTER JOIN PersonProject Pp\r\n",
                "ON Pd.PersonDetailsID = Pp.PersonID\r\n",
                "FULL OUTER JOIN InfrastructureUsers Iu\r\n",
                "ON Pp.PersonProjectID = Iu.PersonProjectID\r\n",
                "JOIN Projects p\r\n",
                "ON p.ProjectID = Pp.ProjectID\r\n",
                "GO"
            ],
            "metadata": {
                "azdata_cell_guid": "15348714-52ae-42de-ab28-1e8246b253d6",
                "language": "sql"
            },
            "outputs": [
                {
                    "output_type": "display_data",
                    "data": {
                        "text/html": "Commands completed successfully."
                    },
                    "metadata": {}
                },
                {
                    "output_type": "display_data",
                    "data": {
                        "text/html": "Commands completed successfully."
                    },
                    "metadata": {}
                },
                {
                    "output_type": "display_data",
                    "data": {
                        "text/html": "Commands completed successfully."
                    },
                    "metadata": {}
                },
                {
                    "output_type": "display_data",
                    "data": {
                        "text/html": "Total execution time: 00:00:00.135"
                    },
                    "metadata": {}
                }
            ],
            "execution_count": 8
        },
        {
            "cell_type": "code",
            "source": [
                "SELECT Pd.PersonDetailsID, pp.PersonProjectID, p.ProjectName, Pd.Title, Ho.HomeOrganisationName, Iu.Added, Iu.AddedData, Iu.AddedBy\r\n",
                "FROM People_Details Pd\r\n",
                "FULL OUTER JOIN Home_Organisations Ho\r\n",
                "ON Pd.HomeOrganisation = Ho.HomeOrgID\r\n",
                "FULL OUTER JOIN PersonProject Pp\r\n",
                "ON Pd.PersonDetailsID = Pp.PersonID\r\n",
                "FULL OUTER JOIN InfrastructureUsers Iu\r\n",
                "ON Pp.PersonProjectID = Iu.PersonProjectID\r\n",
                "JOIN Projects p\r\n",
                "ON p.ProjectID = Pp.ProjectID\r\n",
                "GO"
            ],
            "metadata": {
                "language": "sql",
                "azdata_cell_guid": "d3576c31-3ab1-4c67-b0d6-cac0bf56d86a"
            },
            "outputs": [
                {
                    "output_type": "display_data",
                    "data": {
                        "text/html": "Query was canceled by user"
                    },
                    "metadata": {}
                },
                {
                    "output_type": "display_data",
                    "data": {
                        "text/html": "Total execution time: 00:00:48.779"
                    },
                    "metadata": {}
                }
            ],
            "execution_count": 38
        },
        {
            "cell_type": "code",
            "source": [
                "SELECT *\r\n",
                "FROM ExternalInfrastructureUsers\r\n",
                "\r\n",
                ""
            ],
            "metadata": {
                "azdata_cell_guid": "a47f0044-fbd5-4ff8-bb37-327e06c34854",
                "language": "sql"
            },
            "outputs": [
                {
                    "output_type": "display_data",
                    "data": {
                        "text/html": "(0 rows affected)"
                    },
                    "metadata": {}
                },
                {
                    "output_type": "display_data",
                    "data": {
                        "text/html": "Total execution time: 00:00:00.131"
                    },
                    "metadata": {}
                },
                {
                    "output_type": "execute_result",
                    "metadata": {},
                    "execution_count": 2,
                    "data": {
                        "application/vnd.dataresource+json": {
                            "schema": {
                                "fields": [
                                    {
                                        "name": "Title"
                                    },
                                    {
                                        "name": "Email"
                                    },
                                    {
                                        "name": "HomeOrganisationName"
                                    },
                                    {
                                        "name": "ProjectName"
                                    },
                                    {
                                        "name": "ProjectNumber"
                                    },
                                    {
                                        "name": "AddedBy"
                                    },
                                    {
                                        "name": "AddedData"
                                    },
                                    {
                                        "name": "Comments"
                                    },
                                    {
                                        "name": "EmailText"
                                    },
                                    {
                                        "name": "Added"
                                    },
                                    {
                                        "name": "UserID"
                                    }
                                ]
                            },
                            "data": []
                        },
                        "text/html": [
                            "<table>",
                            "<tr><th>Title</th><th>Email</th><th>HomeOrganisationName</th><th>ProjectName</th><th>ProjectNumber</th><th>AddedBy</th><th>AddedData</th><th>Comments</th><th>EmailText</th><th>Added</th><th>UserID</th></tr>",
                            "</table>"
                        ]
                    }
                }
            ],
            "execution_count": 2
        },
        {
            "cell_type": "code",
            "source": [
                "DELETE FROM FormsTracker DBCC CHECKIDENT ([FormsTracker], RESEED, 1000)"
            ],
            "metadata": {
                "azdata_cell_guid": "0c8cde58-a6be-4f4f-bf1f-1b8e78745600",
                "language": "sql"
            },
            "outputs": [
                {
                    "output_type": "display_data",
                    "data": {
                        "text/html": "(1 row affected)"
                    },
                    "metadata": {}
                },
                {
                    "output_type": "display_data",
                    "data": {
                        "text/html": "Checking identity information: current identity value '1'."
                    },
                    "metadata": {}
                },
                {
                    "output_type": "display_data",
                    "data": {
                        "text/html": "DBCC execution completed. If DBCC printed error messages, contact your system administrator."
                    },
                    "metadata": {}
                },
                {
                    "output_type": "display_data",
                    "data": {
                        "text/html": "Total execution time: 00:00:00.053"
                    },
                    "metadata": {}
                }
            ],
            "execution_count": 40
        },
        {
            "cell_type": "code",
            "source": [
                "ALTER TABLE People_Details SET (SYSTEM_VERSIONING = OFF);\r\n",
                "\r\n",
                "DELETE FROM People_Details DBCC CHECKIDENT ([People_Details], RESEED, 1000)\r\n",
                "\r\n",
                "ALTER TABLE People_Details SET (SYSTEM_VERSIONING = ON (HISTORY_TABLE = History.People_Details))"
            ],
            "metadata": {
                "azdata_cell_guid": "56a772d6-bbc7-4460-8bdf-4e2d4fe118fe",
                "language": "sql"
            },
            "outputs": [
                {
                    "output_type": "display_data",
                    "data": {
                        "text/html": "(0 rows affected)"
                    },
                    "metadata": {}
                },
                {
                    "output_type": "display_data",
                    "data": {
                        "text/html": "Checking identity information: current identity value '0'."
                    },
                    "metadata": {}
                },
                {
                    "output_type": "display_data",
                    "data": {
                        "text/html": "DBCC execution completed. If DBCC printed error messages, contact your system administrator."
                    },
                    "metadata": {}
                },
                {
                    "output_type": "display_data",
                    "data": {
                        "text/html": "Total execution time: 00:00:00.082"
                    },
                    "metadata": {}
                }
            ],
            "execution_count": 41
        },
        {
            "cell_type": "code",
            "source": [
                "CREATE TABLE DestGroups (\r\n",
                "    DestGroupID int identity(1000,1) NOT NULL PRIMARY KEY,\r\n",
                "    FormTrackID int NOT NULL,\r\n",
                "    GroupID int NOT NULL, \r\n",
                "    CONSTRAINT FK_DestGroupForm FOREIGN KEY (FormTrackID)\r\n",
                "    REFERENCES FormsTracker(TrackID)\r\n",
                ")"
            ],
            "metadata": {
                "azdata_cell_guid": "5e4b5a04-e644-41e4-84f2-acce3e0c442c",
                "language": "sql"
            },
            "outputs": [
                {
                    "output_type": "display_data",
                    "data": {
                        "text/html": "Commands completed successfully."
                    },
                    "metadata": {}
                },
                {
                    "output_type": "display_data",
                    "data": {
                        "text/html": "Total execution time: 00:00:00.044"
                    },
                    "metadata": {}
                }
            ],
            "execution_count": 3
        },
        {
            "cell_type": "code",
            "source": [
                "EXECUTE InsertDestGroups_00 \r\n",
                "    @FormTrackerID =  1001,\r\n",
                "    @GroupIDsList =  '12;15;28';"
            ],
            "metadata": {
                "language": "sql",
                "azdata_cell_guid": "cd842a8c-aecf-451e-a166-cf5782e1cbb8"
            },
            "outputs": [
                {
                    "output_type": "display_data",
                    "data": {
                        "text/html": "(3 rows affected)"
                    },
                    "metadata": {}
                },
                {
                    "output_type": "display_data",
                    "data": {
                        "text/html": "Total execution time: 00:00:00.062"
                    },
                    "metadata": {}
                }
            ],
            "execution_count": 8
        },
        {
            "cell_type": "code",
            "source": [
                "SELECT *\r\n",
                "FROM DestGroups"
            ],
            "metadata": {
                "azdata_cell_guid": "c8191e6a-cb4a-4978-b2b3-994ead150df2",
                "language": "sql"
            },
            "outputs": [
                {
                    "output_type": "display_data",
                    "data": {
                        "text/html": "(3 rows affected)"
                    },
                    "metadata": {}
                },
                {
                    "output_type": "display_data",
                    "data": {
                        "text/html": "Total execution time: 00:00:00.041"
                    },
                    "metadata": {}
                },
                {
                    "output_type": "execute_result",
                    "metadata": {},
                    "execution_count": 9,
                    "data": {
                        "application/vnd.dataresource+json": {
                            "schema": {
                                "fields": [
                                    {
                                        "name": "DestGroupID"
                                    },
                                    {
                                        "name": "FormTrackID"
                                    },
                                    {
                                        "name": "GroupID"
                                    }
                                ]
                            },
                            "data": [
                                {
                                    "DestGroupID": "1000",
                                    "FormTrackID": "1001",
                                    "GroupID": "12"
                                },
                                {
                                    "DestGroupID": "1001",
                                    "FormTrackID": "1001",
                                    "GroupID": "15"
                                },
                                {
                                    "DestGroupID": "1002",
                                    "FormTrackID": "1001",
                                    "GroupID": "28"
                                }
                            ]
                        },
                        "text/html": [
                            "<table>",
                            "<tr><th>DestGroupID</th><th>FormTrackID</th><th>GroupID</th></tr>",
                            "<tr><td>1000</td><td>1001</td><td>12</td></tr>",
                            "<tr><td>1001</td><td>1001</td><td>15</td></tr>",
                            "<tr><td>1002</td><td>1001</td><td>28</td></tr>",
                            "</table>"
                        ]
                    }
                }
            ],
            "execution_count": 9
        },
        {
            "cell_type": "code",
            "source": [
                ""
            ],
            "metadata": {
                "language": "sql",
                "azdata_cell_guid": "0e1cd316-3c23-477b-97b6-8fbb15d8db6b"
            },
            "outputs": [],
            "execution_count": null
        }
    ]
}