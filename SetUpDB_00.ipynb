{
    "metadata": {
        "kernelspec": {
            "name": "SQL",
            "display_name": "SQL",
            "language": "sql"
        },
        "language_info": {
            "name": "sql",
            "version": ""
        }
    },
    "nbformat_minor": 2,
    "nbformat": 4,
    "cells": [
        {
            "cell_type": "code",
            "source": [
                "SELECT *\r\n",
                "FROM InductionCompleted"
            ],
            "metadata": {
                "azdata_cell_guid": "2dbd1ecf-ce2d-4807-96c5-7d0b76e674ed",
                "language": "sql"
            },
            "outputs": [
                {
                    "output_type": "display_data",
                    "data": {
                        "text/html": "(0 rows affected)"
                    },
                    "metadata": {}
                },
                {
                    "output_type": "display_data",
                    "data": {
                        "text/html": "Total execution time: 00:00:00.090"
                    },
                    "metadata": {}
                },
                {
                    "output_type": "execute_result",
                    "metadata": {},
                    "execution_count": 1,
                    "data": {
                        "application/vnd.dataresource+json": {
                            "schema": {
                                "fields": [
                                    {
                                        "name": "InductionCompletedID"
                                    },
                                    {
                                        "name": "PersonProjectId"
                                    },
                                    {
                                        "name": "CompletedDate"
                                    },
                                    {
                                        "name": "Title"
                                    },
                                    {
                                        "name": "Email"
                                    },
                                    {
                                        "name": "ProjectName"
                                    }
                                ]
                            },
                            "data": []
                        },
                        "text/html": [
                            "<table>",
                            "<tr><th>InductionCompletedID</th><th>PersonProjectId</th><th>CompletedDate</th><th>Title</th><th>Email</th><th>ProjectName</th></tr>",
                            "</table>"
                        ]
                    }
                }
            ],
            "execution_count": 1
        },
        {
            "cell_type": "markdown",
            "source": [
                "InductionCompleted table store information about users who have completed all compulsory trainings. \n",
                "\n",
                "It is updated by triger inductionCompleted\\_00, on CompletedTrainings Tab\n",
                "\n",
                "<span style=\"color: var(--vscode-foreground);\">Up to the project requirements Table has to be updated with name, email, project name<br></span>"
            ],
            "metadata": {
                "azdata_cell_guid": "db3baebb-0022-4594-bffa-3a900d650bbc"
            },
            "attachments": {}
        },
        {
            "cell_type": "code",
            "source": [
                "ALTER TABLE InductionCompleted\r\n",
                "ADD Title NVARCHAR(100),\r\n",
                "    Email NVARCHAR(100), \r\n",
                "    ProjectName NVARCHAR(100);"
            ],
            "metadata": {
                "azdata_cell_guid": "22ea1c0d-80a3-496b-9106-d20d2db9aa8c",
                "language": "sql"
            },
            "outputs": [
                {
                    "output_type": "display_data",
                    "data": {
                        "text/html": "Commands completed successfully."
                    },
                    "metadata": {}
                },
                {
                    "output_type": "display_data",
                    "data": {
                        "text/html": "Total execution time: 00:00:00.064"
                    },
                    "metadata": {}
                }
            ],
            "execution_count": 4
        },
        {
            "cell_type": "code",
            "source": [
                "ALTER TRIGGER inductionCompleted_00\r\n",
                "ON CompletedTrainings\r\n",
                "FOR INSERT AS\r\n",
                "BEGIN \r\n",
                "\t\r\n",
                "\tDECLARE @PersonProjectID int\r\n",
                "\tDECLARE @ProjectID int\r\n",
                "    DECLARE @PersonID int\r\n",
                "\tDECLARE @NumCompletedTrainings int\r\n",
                "\tDECLARE @NumTrainingsProject int\r\n",
                "    DECLARE @Title nvarchar(100)\r\n",
                "    DECLARE @Email nvarchar(100) \r\n",
                "    DECLARE @ProjectName nvarchar(100)\r\n",
                "\r\n",
                "\tSET @PersonProjectID = (SELECT PersonProjectID FROM inserted)\r\n",
                "\r\n",
                "\tSET @ProjectID = (SELECT ProjectID FROM PersonProject WHERE PersonProjectID = @PersonProjectID)\r\n",
                "    SET @PersonID = (SELECT PersonID FROM PersonProject WHERE PersonProjectID = @PersonProjectID)\r\n",
                "\r\n",
                "\tSET @Title = (SELECT Title FROM People_Details WHERE PersonDetailsID = @PersonID)\r\n",
                "    SET @Email = (SELECT Email FROM People_Details WHERE PersonDetailsID = @PersonID) \r\n",
                "    SET @ProjectName = (SELECT ProjectName FROM Projects WHERE ProjectID = @ProjectID)     \r\n",
                "\r\n",
                "\tSET @NumTrainingsProject = (SELECT COUNT(*) FROM Trainings WHERE ProjectID = @ProjectID AND Mandatory = 1)\r\n",
                "\tSET @NumCompletedTrainings = (SELECT COUNT(*) FROM CompletedTrainings ct JOIN Trainings t ON ct.TrainingID = t.TrainingID WHERE t.Mandatory = 1 AND ct.PersonProjectID = @PersonProjectID)\r\n",
                "\r\n",
                "\tIF @NumCompletedTrainings >= @NumTrainingsProject\r\n",
                "\t\tBEGIN\r\n",
                "\r\n",
                "\t\tINSERT INTO InductionCompleted (PersonProjectId, CompletedDate, Title, Email, ProjectName)\r\n",
                "\t\tVALUES (@PersonProjectID, CAST(GETDATE() AS DATE), @Title, @Email, @ProjectName)\r\n",
                "\r\n",
                "\t\tEND\r\n",
                "\r\n",
                "END\r\n",
                "GO"
            ],
            "metadata": {
                "language": "sql",
                "azdata_cell_guid": "c6ed266b-3a38-46c7-8842-ed8b6aa86d4e"
            },
            "outputs": [
                {
                    "output_type": "display_data",
                    "data": {
                        "text/html": "Commands completed successfully."
                    },
                    "metadata": {}
                },
                {
                    "output_type": "display_data",
                    "data": {
                        "text/html": "Total execution time: 00:00:00.048"
                    },
                    "metadata": {}
                }
            ],
            "execution_count": 19
        },
        {
            "cell_type": "markdown",
            "source": [
                "<span style=\"color: rgb(0, 128, 0);\">defining groups with people details view for flow</span>"
            ],
            "metadata": {
                "language": "sql",
                "azdata_cell_guid": "9e7c2cf8-e9bc-4507-b3cf-9127ad60e898"
            },
            "attachments": {}
        },
        {
            "cell_type": "code",
            "source": [
                "ALTER VIEW PeopleInGroups\r\n",
                "AS      \r\n",
                "    SELECT pd.Title, pd.Email, p_g.GroupUrl, p_g.PortalGroupName, p.ProjectName\r\n",
                "    FROM PersonGroup pg\r\n",
                "    JOIN Portal_Groups p_g\r\n",
                "    ON pg.GroupID = p_g.PortalGroupID\r\n",
                "    JOIN PersonProject pp\r\n",
                "    ON pg.PersonProjectID = pp.PersonProjectID\r\n",
                "    JOIN People_Details pd \r\n",
                "    ON pp.PersonID = pd.PersonDetailsID\r\n",
                "    JOIN Projects p \r\n",
                "    ON pp.ProjectID = p.ProjectID"
            ],
            "metadata": {
                "language": "sql",
                "azdata_cell_guid": "3e6b5417-e6cf-4939-b8b0-5b75346bfac8"
            },
            "outputs": [
                {
                    "output_type": "display_data",
                    "data": {
                        "text/html": "Commands completed successfully."
                    },
                    "metadata": {}
                },
                {
                    "output_type": "display_data",
                    "data": {
                        "text/html": "Total execution time: 00:00:00.065"
                    },
                    "metadata": {}
                }
            ],
            "execution_count": 5
        },
        {
            "cell_type": "code",
            "source": [
                "SELECT *\r\n",
                "FROM PeopleInGroups"
            ],
            "metadata": {
                "azdata_cell_guid": "e0db1e87-7607-4592-8c01-9f70ff81750d",
                "language": "sql"
            },
            "outputs": [
                {
                    "output_type": "display_data",
                    "data": {
                        "text/html": "(6 rows affected)"
                    },
                    "metadata": {}
                },
                {
                    "output_type": "display_data",
                    "data": {
                        "text/html": "Total execution time: 00:00:00.061"
                    },
                    "metadata": {}
                },
                {
                    "output_type": "execute_result",
                    "metadata": {},
                    "execution_count": 6,
                    "data": {
                        "application/vnd.dataresource+json": {
                            "schema": {
                                "fields": [
                                    {
                                        "name": "Title"
                                    },
                                    {
                                        "name": "Email"
                                    },
                                    {
                                        "name": "GroupUrl"
                                    },
                                    {
                                        "name": "PortalGroupName"
                                    },
                                    {
                                        "name": "ProjectName"
                                    }
                                ]
                            },
                            "data": [
                                {
                                    "Title": "Leigh Hulme",
                                    "Email": "leigh.hulme@jacobs.com",
                                    "GroupUrl": "NULL",
                                    "PortalGroupName": "Dev Test",
                                    "ProjectName": "EssexCCFW"
                                },
                                {
                                    "Title": "Grzogorz  Brzęszczyszczykiweicz ",
                                    "Email": "grzegorz.brzeczyszczczykiewicz@samsiegubie.com",
                                    "GroupUrl": "NULL",
                                    "PortalGroupName": "Dev Test",
                                    "ProjectName": "EssexCCFW"
                                },
                                {
                                    "Title": "Grzogorz  Brzęszczyszczykiweicz ",
                                    "Email": "grzegorz.brzeczyszczczykiewicz@samsiegubie.com",
                                    "GroupUrl": "NULL",
                                    "PortalGroupName": "Dev Test 2",
                                    "ProjectName": "EssexCCFW"
                                },
                                {
                                    "Title": "Grzogorz  Brzęszczyszczykiweicz ",
                                    "Email": "grzegorz.brzeczyszczczykiewicz@samsiegubie.com",
                                    "GroupUrl": "NULL",
                                    "PortalGroupName": "Dev Test 2",
                                    "ProjectName": "EssexCCFW"
                                },
                                {
                                    "Title": "Harry Potter",
                                    "Email": "harry.potter@hogward.com",
                                    "GroupUrl": "NULL",
                                    "PortalGroupName": "Dev Test 2",
                                    "ProjectName": "EssexCCFW"
                                },
                                {
                                    "Title": "Paulina Haber",
                                    "Email": "paulina.haber@jacobs.com",
                                    "GroupUrl": "NULL",
                                    "PortalGroupName": "Dev Test 2",
                                    "ProjectName": "EssexCCFW"
                                }
                            ]
                        },
                        "text/html": [
                            "<table>",
                            "<tr><th>Title</th><th>Email</th><th>GroupUrl</th><th>PortalGroupName</th><th>ProjectName</th></tr>",
                            "<tr><td>Leigh Hulme</td><td>leigh.hulme@jacobs.com</td><td>NULL</td><td>Dev Test</td><td>EssexCCFW</td></tr>",
                            "<tr><td>Grzogorz  Brzęszczyszczykiweicz </td><td>grzegorz.brzeczyszczczykiewicz@samsiegubie.com</td><td>NULL</td><td>Dev Test</td><td>EssexCCFW</td></tr>",
                            "<tr><td>Grzogorz  Brzęszczyszczykiweicz </td><td>grzegorz.brzeczyszczczykiewicz@samsiegubie.com</td><td>NULL</td><td>Dev Test 2</td><td>EssexCCFW</td></tr>",
                            "<tr><td>Grzogorz  Brzęszczyszczykiweicz </td><td>grzegorz.brzeczyszczczykiewicz@samsiegubie.com</td><td>NULL</td><td>Dev Test 2</td><td>EssexCCFW</td></tr>",
                            "<tr><td>Harry Potter</td><td>harry.potter@hogward.com</td><td>NULL</td><td>Dev Test 2</td><td>EssexCCFW</td></tr>",
                            "<tr><td>Paulina Haber</td><td>paulina.haber@jacobs.com</td><td>NULL</td><td>Dev Test 2</td><td>EssexCCFW</td></tr>",
                            "</table>"
                        ]
                    }
                }
            ],
            "execution_count": 6
        }
    ]
}