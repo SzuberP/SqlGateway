{
    "metadata": {
        "kernelspec": {
            "name": "SQL",
            "display_name": "SQL",
            "language": "sql"
        },
        "language_info": {
            "name": "sql",
            "version": ""
        }
    },
    "nbformat_minor": 2,
    "nbformat": 4,
    "cells": [
        {
            "cell_type": "code",
            "source": [
                "SELECT *\r\n",
                "FROM InductionCompleted"
            ],
            "metadata": {
                "azdata_cell_guid": "2dbd1ecf-ce2d-4807-96c5-7d0b76e674ed",
                "language": "sql"
            },
            "outputs": [
                {
                    "output_type": "display_data",
                    "data": {
                        "text/html": "(0 rows affected)"
                    },
                    "metadata": {}
                },
                {
                    "output_type": "display_data",
                    "data": {
                        "text/html": "Total execution time: 00:00:00.041"
                    },
                    "metadata": {}
                },
                {
                    "output_type": "execute_result",
                    "metadata": {},
                    "execution_count": 30,
                    "data": {
                        "application/vnd.dataresource+json": {
                            "schema": {
                                "fields": [
                                    {
                                        "name": "InductionCompletedID"
                                    },
                                    {
                                        "name": "PersonProjectId"
                                    },
                                    {
                                        "name": "CompletedDate"
                                    },
                                    {
                                        "name": "Title"
                                    },
                                    {
                                        "name": "Email"
                                    },
                                    {
                                        "name": "ProjectName"
                                    }
                                ]
                            },
                            "data": []
                        },
                        "text/html": [
                            "<table>",
                            "<tr><th>InductionCompletedID</th><th>PersonProjectId</th><th>CompletedDate</th><th>Title</th><th>Email</th><th>ProjectName</th></tr>",
                            "</table>"
                        ]
                    }
                }
            ],
            "execution_count": 30
        },
        {
            "cell_type": "markdown",
            "source": [
                "InductionCompleted table store information about users who have completed all compulsory trainings. \n",
                "\n",
                "It is updated by triger inductionCompleted\\_00, on CompletedTrainings Tab\n",
                "\n",
                "<span style=\"color: var(--vscode-foreground);\">Up to the project requirements Table has to be updated with name, email, project name<br></span>"
            ],
            "metadata": {
                "azdata_cell_guid": "db3baebb-0022-4594-bffa-3a900d650bbc"
            },
            "attachments": {}
        },
        {
            "cell_type": "code",
            "source": [
                "ALTER TABLE InductionCompleted\r\n",
                "ADD Title NVARCHAR(100),\r\n",
                "    Email NVARCHAR(100), \r\n",
                "    ProjectName NVARCHAR(100);"
            ],
            "metadata": {
                "azdata_cell_guid": "22ea1c0d-80a3-496b-9106-d20d2db9aa8c",
                "language": "sql"
            },
            "outputs": [
                {
                    "output_type": "display_data",
                    "data": {
                        "text/html": "Commands completed successfully."
                    },
                    "metadata": {}
                },
                {
                    "output_type": "display_data",
                    "data": {
                        "text/html": "Total execution time: 00:00:00.064"
                    },
                    "metadata": {}
                }
            ],
            "execution_count": 4
        },
        {
            "cell_type": "code",
            "source": [
                "ALTER TRIGGER inductionCompleted_00\r\n",
                "ON CompletedTrainings\r\n",
                "FOR INSERT AS\r\n",
                "BEGIN \r\n",
                "\t\r\n",
                "\tDECLARE @PersonProjectID int\r\n",
                "\tDECLARE @ProjectID int\r\n",
                "    DECLARE @PersonID int\r\n",
                "\tDECLARE @NumCompletedTrainings int\r\n",
                "\tDECLARE @NumTrainingsProject int\r\n",
                "    DECLARE @Title nvarchar(100)\r\n",
                "    DECLARE @Email nvarchar(100) \r\n",
                "    DECLARE @ProjectName nvarchar(100)\r\n",
                "\r\n",
                "\tSET @PersonProjectID = (SELECT PersonProjectID FROM inserted)\r\n",
                "\r\n",
                "\tSET @ProjectID = (SELECT ProjectID FROM PersonProject WHERE PersonProjectID = @PersonProjectID)\r\n",
                "    SET @PersonID = (SELECT PersonID FROM PersonProject WHERE PersonProjectID = @PersonProjectID)\r\n",
                "\r\n",
                "\tSET @Title = (SELECT Title FROM People_Details WHERE PersonDetailsID = @PersonID)\r\n",
                "    SET @Email = (SELECT Email FROM People_Details WHERE PersonDetailsID = @PersonID) \r\n",
                "    SET @ProjectName = (SELECT ProjectName FROM Projects WHERE ProjectID = @ProjectID)     \r\n",
                "\r\n",
                "\tSET @NumTrainingsProject = (SELECT COUNT(*) FROM Trainings WHERE ProjectID = @ProjectID AND Mandatory = 1)\r\n",
                "\tSET @NumCompletedTrainings = (SELECT COUNT(*) FROM CompletedTrainings ct JOIN Trainings t ON ct.TrainingID = t.TrainingID WHERE t.Mandatory = 1 AND ct.PersonProjectID = @PersonProjectID)\r\n",
                "\r\n",
                "\tIF @NumCompletedTrainings >= @NumTrainingsProject\r\n",
                "\t\tBEGIN\r\n",
                "\r\n",
                "\t\tINSERT INTO InductionCompleted (PersonProjectId, CompletedDate, Title, Email, ProjectName)\r\n",
                "\t\tVALUES (@PersonProjectID, CAST(GETDATE() AS DATE), @Title, @Email, @ProjectName)\r\n",
                "\r\n",
                "\t\tEND\r\n",
                "\r\n",
                "END\r\n",
                "GO"
            ],
            "metadata": {
                "language": "sql",
                "azdata_cell_guid": "c6ed266b-3a38-46c7-8842-ed8b6aa86d4e"
            },
            "outputs": [
                {
                    "output_type": "display_data",
                    "data": {
                        "text/html": "Commands completed successfully."
                    },
                    "metadata": {}
                },
                {
                    "output_type": "display_data",
                    "data": {
                        "text/html": "Total execution time: 00:00:00.048"
                    },
                    "metadata": {}
                }
            ],
            "execution_count": 19
        }
    ]
}